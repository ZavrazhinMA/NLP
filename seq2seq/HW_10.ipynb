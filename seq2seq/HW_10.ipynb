{
 "cells": [
  {
   "cell_type": "markdown",
   "id": "5f6b8ed5",
   "metadata": {},
   "source": [
    "# Задание\n",
    "Разобраться с моделькой перевода как она устроена (без механизма внимания), запустить для перевода с русского на английский"
   ]
  },
  {
   "cell_type": "markdown",
   "id": "227ef8fa",
   "metadata": {},
   "source": [
    "-------------------------"
   ]
  },
  {
   "cell_type": "code",
   "execution_count": 1,
   "id": "76322498",
   "metadata": {
    "ExecuteTime": {
     "end_time": "2021-09-01T15:06:44.792824Z",
     "start_time": "2021-09-01T15:06:44.639455Z"
    }
   },
   "outputs": [],
   "source": [
    "import numpy as np\n",
    "import unicodedata\n",
    "import re\n",
    "import os\n",
    "from pathlib import Path\n",
    "import io\n",
    "import time\n",
    "import warnings\n",
    "warnings.filterwarnings('ignore')"
   ]
  },
  {
   "cell_type": "code",
   "execution_count": 2,
   "id": "4d840d69",
   "metadata": {
    "ExecuteTime": {
     "end_time": "2021-09-01T15:06:45.108813Z",
     "start_time": "2021-09-01T15:06:44.794811Z"
    }
   },
   "outputs": [],
   "source": [
    "import matplotlib.pyplot as plt\n",
    "import matplotlib.ticker as ticker\n",
    "%matplotlib inline\n",
    "%config InlineBackend.figure_format = 'svg'\n",
    "plt.style.use('ggplot')\n",
    "plt.rcParams['font.family'] = 'Times New Roman'"
   ]
  },
  {
   "cell_type": "code",
   "execution_count": 3,
   "id": "25f0f18a",
   "metadata": {
    "ExecuteTime": {
     "end_time": "2021-09-01T15:06:48.795342Z",
     "start_time": "2021-09-01T15:06:45.110812Z"
    }
   },
   "outputs": [],
   "source": [
    "import tensorflow as tf\n",
    "from sklearn.model_selection import train_test_split"
   ]
  },
  {
   "cell_type": "markdown",
   "id": "9eabd399",
   "metadata": {},
   "source": [
    "*****************************************"
   ]
  },
  {
   "cell_type": "markdown",
   "id": "0a1cd009",
   "metadata": {},
   "source": [
    "# LOAD Data. Preprocessing"
   ]
  },
  {
   "cell_type": "code",
   "execution_count": 4,
   "id": "d236ed69",
   "metadata": {
    "ExecuteTime": {
     "end_time": "2021-09-01T15:06:48.811334Z",
     "start_time": "2021-09-01T15:06:48.797332Z"
    }
   },
   "outputs": [],
   "source": [
    "# !wget http://www.manythings.org/anki/rus-eng.zip # http://www.manythings.org/anki/ - other languages\n",
    "# !mkdir rus-eng\n",
    "# !unzip rus-eng.zip -d rus-eng/"
   ]
  },
  {
   "cell_type": "code",
   "execution_count": 5,
   "id": "f3560d25",
   "metadata": {
    "ExecuteTime": {
     "end_time": "2021-09-01T15:06:48.827342Z",
     "start_time": "2021-09-01T15:06:48.814333Z"
    }
   },
   "outputs": [],
   "source": [
    "path_to_file = os.path.join(Path(os.getcwd()), \"rus-eng\", \"rus.txt\")"
   ]
  },
  {
   "cell_type": "code",
   "execution_count": 6,
   "id": "5e363f67",
   "metadata": {
    "ExecuteTime": {
     "end_time": "2021-09-01T15:06:48.843329Z",
     "start_time": "2021-09-01T15:06:48.828330Z"
    }
   },
   "outputs": [],
   "source": [
    "def preprocess_sentence(w):\n",
    "    w = w.lower().strip()\n",
    "\n",
    "    # creating a space between a word and the punctuation following it\n",
    "    # eg: \"he is a boy.\" => \"he is a boy .\"\n",
    "    w = re.sub(r\"([?.!,])\", r\" \\1 \", w)\n",
    "    w = re.sub(r'[\" \"]+', \" \", w)\n",
    "\n",
    "    # replacing everything with space except (a-z, A-Z, \".\", \"?\", \"!\", \",\")\n",
    "    w = re.sub(r\"[^a-zA-Zа-яА-Я?.!,']+\", \" \", w)\n",
    "    w = w.strip()\n",
    "\n",
    "    # adding a start and an end token to the sentence\n",
    "    # so that the model know when to start and stop predicting.\n",
    "    w = '<start> ' + w + ' <end>'\n",
    "    return w"
   ]
  },
  {
   "cell_type": "code",
   "execution_count": 7,
   "id": "9bc10d6d",
   "metadata": {
    "ExecuteTime": {
     "end_time": "2021-09-01T15:06:48.859330Z",
     "start_time": "2021-09-01T15:06:48.846334Z"
    }
   },
   "outputs": [
    {
     "data": {
      "text/plain": [
       "\"<start> i can't go ! ! ! <end>\""
      ]
     },
     "execution_count": 7,
     "metadata": {},
     "output_type": "execute_result"
    }
   ],
   "source": [
    "preprocess_sentence(\"I can't go!!!\")"
   ]
  },
  {
   "cell_type": "code",
   "execution_count": 8,
   "id": "af16698a",
   "metadata": {
    "ExecuteTime": {
     "end_time": "2021-09-01T15:06:48.875330Z",
     "start_time": "2021-09-01T15:06:48.862329Z"
    }
   },
   "outputs": [],
   "source": [
    "# 1. Remove the accents\n",
    "# 2. Clean the sentences\n",
    "# 3. Return word pairs in the format: [ENG, RUS]\n",
    "def create_dataset(path, num_examples):\n",
    "    lines = io.open(path, encoding='UTF-8').read().strip().split('\\n')\n",
    "\n",
    "    word_pairs = [[preprocess_sentence(w) for w in l.split('\\t')[\n",
    "        :2]] for l in lines[:num_examples]]\n",
    "\n",
    "    return zip(*word_pairs)"
   ]
  },
  {
   "cell_type": "code",
   "execution_count": 9,
   "id": "9068a812",
   "metadata": {
    "ExecuteTime": {
     "end_time": "2021-09-01T15:07:01.598646Z",
     "start_time": "2021-09-01T15:06:48.877330Z"
    }
   },
   "outputs": [
    {
     "name": "stdout",
     "output_type": "stream",
     "text": [
      "<start> doubtless there exists in this world precisely the right woman for any given man to marry and vice versa but when you consider that a human being has the opportunity of being acquainted with only a few hundred people , and out of the few hundred that there are but a dozen or less whom he knows intimately , and out of the dozen , one or two friends at most , it will easily be seen , when we remember the number of millions who inhabit this world , that probably , since the earth was created , the right man has never yet met the right woman . <end>\n",
      "<start> несомненно , для каждого мужчины в этом мире где то есть подходящая женщина , которая может стать ему женой , обратное верно и для женщин . но если учесть , что у человека может быть максимум несколько сотен знакомых , из которых лишь дюжина , а то и меньше , тех , кого он знает близко , а из этой дюжины у него один или от силы два друга , то можно легко увидеть , что с уч том миллионов живущих на земле людей , ни один подходящий мужчина , возможно , ещ не встретил подходящую женщину . <end>\n"
     ]
    }
   ],
   "source": [
    "en, ru = create_dataset(path_to_file, None)\n",
    "print(en[-1])\n",
    "print(ru[-1])"
   ]
  },
  {
   "cell_type": "code",
   "execution_count": 10,
   "id": "312d6cdf",
   "metadata": {
    "ExecuteTime": {
     "end_time": "2021-09-01T15:07:01.614159Z",
     "start_time": "2021-09-01T15:07:01.600170Z"
    }
   },
   "outputs": [],
   "source": [
    "def tokenize(lang):\n",
    "    lang_tokenizer = tf.keras.preprocessing.text.Tokenizer(\n",
    "        filters='')\n",
    "    lang_tokenizer.fit_on_texts(lang)\n",
    "\n",
    "    tensor = lang_tokenizer.texts_to_sequences(lang)\n",
    "\n",
    "    tensor = tf.keras.preprocessing.sequence.pad_sequences(tensor,\n",
    "                                                           padding='post')\n",
    "\n",
    "    return tensor, lang_tokenizer"
   ]
  },
  {
   "cell_type": "code",
   "execution_count": 11,
   "id": "217bc825",
   "metadata": {
    "ExecuteTime": {
     "end_time": "2021-09-01T15:07:01.629240Z",
     "start_time": "2021-09-01T15:07:01.616158Z"
    }
   },
   "outputs": [],
   "source": [
    "def load_dataset(path, num_examples=None):\n",
    "    # creating cleaned input, output pairs\n",
    "    targ_lang, inp_lang = create_dataset(path, num_examples)\n",
    "\n",
    "    input_tensor, inp_lang_tokenizer = tokenize(inp_lang)\n",
    "    target_tensor, targ_lang_tokenizer = tokenize(targ_lang)\n",
    "\n",
    "    return input_tensor, target_tensor, inp_lang_tokenizer, targ_lang_tokenizer"
   ]
  },
  {
   "cell_type": "code",
   "execution_count": 12,
   "id": "133b849a",
   "metadata": {
    "ExecuteTime": {
     "end_time": "2021-09-01T15:07:01.645286Z",
     "start_time": "2021-09-01T15:07:01.630239Z"
    }
   },
   "outputs": [
    {
     "data": {
      "text/plain": [
       "(431097, 431097)"
      ]
     },
     "execution_count": 12,
     "metadata": {},
     "output_type": "execute_result"
    }
   ],
   "source": [
    "len(en), len(ru)"
   ]
  },
  {
   "cell_type": "code",
   "execution_count": 13,
   "id": "ea3513fe",
   "metadata": {
    "ExecuteTime": {
     "end_time": "2021-09-01T15:07:09.060499Z",
     "start_time": "2021-09-01T15:07:01.647266Z"
    }
   },
   "outputs": [
    {
     "name": "stdout",
     "output_type": "stream",
     "text": [
      " max_length of the target tensors: eng-11, ru-15\n"
     ]
    }
   ],
   "source": [
    "# Try experimenting with the size of that dataset\n",
    "num_examples = 100000\n",
    "input_tensor, target_tensor, inp_lang, targ_lang = load_dataset(path_to_file, num_examples)\n",
    "\n",
    "# Calculate max_length of the target tensors\n",
    "max_length_targ, max_length_inp = target_tensor.shape[1], input_tensor.shape[1]\n",
    "print(f\" max_length of the target tensors: eng-{max_length_targ}, ru-{max_length_inp}\")\n",
    "\n",
    "# Creating training and validation sets using an 80-20 split\n",
    "input_tensor_train, input_tensor_val, target_tensor_train, target_tensor_val = train_test_split(input_tensor, target_tensor, test_size=0.2)"
   ]
  },
  {
   "cell_type": "code",
   "execution_count": 14,
   "id": "9436aee3",
   "metadata": {
    "ExecuteTime": {
     "end_time": "2021-09-01T15:07:09.076354Z",
     "start_time": "2021-09-01T15:07:09.062477Z"
    }
   },
   "outputs": [],
   "source": [
    "def convert(lang, tensor):\n",
    "    for t in tensor:\n",
    "        if t != 0:\n",
    "            print(\"%d ----> %s\" % (t, lang.index_word[t]))"
   ]
  },
  {
   "cell_type": "code",
   "execution_count": 15,
   "id": "8440e3f9",
   "metadata": {
    "ExecuteTime": {
     "end_time": "2021-09-01T15:07:09.091471Z",
     "start_time": "2021-09-01T15:07:09.078341Z"
    }
   },
   "outputs": [
    {
     "name": "stdout",
     "output_type": "stream",
     "text": [
      "Input Language; index to word mapping\n",
      "1 ----> <start>\n",
      "13 ----> мы\n",
      "1601 ----> богаты\n",
      "3 ----> .\n",
      "2 ----> <end>\n",
      "\n",
      "Target Language; index to word mapping\n",
      "1 ----> <start>\n",
      "63 ----> we're\n",
      "1098 ----> wealthy\n",
      "3 ----> .\n",
      "2 ----> <end>\n"
     ]
    }
   ],
   "source": [
    "print (\"Input Language; index to word mapping\")\n",
    "convert(inp_lang, input_tensor_train[0])\n",
    "print ()\n",
    "print (\"Target Language; index to word mapping\")\n",
    "convert(targ_lang, target_tensor_train[0])"
   ]
  },
  {
   "cell_type": "markdown",
   "id": "350d6b13",
   "metadata": {},
   "source": [
    "******"
   ]
  },
  {
   "cell_type": "markdown",
   "id": "b89ed466",
   "metadata": {},
   "source": [
    "# Create a tf.data dataset. Model build"
   ]
  },
  {
   "cell_type": "code",
   "execution_count": 16,
   "id": "484086b5",
   "metadata": {
    "ExecuteTime": {
     "end_time": "2021-09-01T15:07:09.823166Z",
     "start_time": "2021-09-01T15:07:09.092468Z"
    }
   },
   "outputs": [],
   "source": [
    "BUFFER_SIZE = len(input_tensor_train)\n",
    "BATCH_SIZE = 64\n",
    "steps_per_epoch = len(input_tensor_train)//BATCH_SIZE\n",
    "embedding_dim = 300\n",
    "units = 1024\n",
    "vocab_inp_size = len(inp_lang.word_index)+1\n",
    "vocab_tar_size = len(targ_lang.word_index)+1\n",
    "\n",
    "dataset = tf.data.Dataset.from_tensor_slices((input_tensor_train, target_tensor_train)).shuffle(BUFFER_SIZE)\n",
    "dataset = dataset.batch(BATCH_SIZE, drop_remainder=True)"
   ]
  },
  {
   "cell_type": "code",
   "execution_count": 17,
   "id": "4c5cdafc",
   "metadata": {
    "ExecuteTime": {
     "end_time": "2021-09-01T15:07:09.991889Z",
     "start_time": "2021-09-01T15:07:09.824165Z"
    },
    "scrolled": true
   },
   "outputs": [
    {
     "data": {
      "text/plain": [
       "(TensorShape([64, 15]), TensorShape([64, 11]))"
      ]
     },
     "execution_count": 17,
     "metadata": {},
     "output_type": "execute_result"
    }
   ],
   "source": [
    "example_input_batch, example_target_batch = next(iter(dataset))\n",
    "example_input_batch.shape, example_target_batch.shape"
   ]
  },
  {
   "cell_type": "markdown",
   "id": "aec486da",
   "metadata": {},
   "source": [
    "## ENCODER"
   ]
  },
  {
   "cell_type": "code",
   "execution_count": 18,
   "id": "4b61b52f",
   "metadata": {
    "ExecuteTime": {
     "end_time": "2021-09-01T15:07:10.007241Z",
     "start_time": "2021-09-01T15:07:09.993242Z"
    }
   },
   "outputs": [],
   "source": [
    "class Encoder(tf.keras.Model):\n",
    "    def __init__(self, vocab_size, embedding_dim, enc_units, batch_sz):\n",
    "        super().__init__()\n",
    "        self.batch_sz = batch_sz\n",
    "        self.enc_units = enc_units\n",
    "        self.embedding = tf.keras.layers.Embedding(vocab_size, embedding_dim)\n",
    "        self.gru = tf.keras.layers.GRU(self.enc_units,\n",
    "                                       return_sequences=False,\n",
    "                                       return_state=True,\n",
    "                                       recurrent_initializer='glorot_uniform')\n",
    "\n",
    "    def call(self, x, hidden):\n",
    "        x = self.embedding(x)\n",
    "        output, state = self.gru(x, initial_state=hidden)\n",
    "        return state\n",
    "\n",
    "    def initialize_hidden_state(self):\n",
    "        return tf.zeros((self.batch_sz, self.enc_units))"
   ]
  },
  {
   "cell_type": "code",
   "execution_count": 19,
   "id": "9e4997ec",
   "metadata": {
    "ExecuteTime": {
     "end_time": "2021-09-01T15:07:10.038600Z",
     "start_time": "2021-09-01T15:07:10.009242Z"
    }
   },
   "outputs": [],
   "source": [
    "encoder = Encoder(vocab_inp_size, embedding_dim, units, BATCH_SIZE)"
   ]
  },
  {
   "cell_type": "code",
   "execution_count": 20,
   "id": "eb9463d9",
   "metadata": {
    "ExecuteTime": {
     "end_time": "2021-09-01T15:07:10.054585Z",
     "start_time": "2021-09-01T15:07:10.040172Z"
    }
   },
   "outputs": [
    {
     "name": "stdout",
     "output_type": "stream",
     "text": [
      "Encoder Hidden state shape: batch size 64, units: 1024\n"
     ]
    }
   ],
   "source": [
    "# sample input\n",
    "sample_hidden = encoder.initialize_hidden_state()\n",
    "print (f'Encoder Hidden state shape: batch size {sample_hidden.shape[0]}, units: {sample_hidden.shape[1]}')"
   ]
  },
  {
   "cell_type": "markdown",
   "id": "02abc906",
   "metadata": {},
   "source": [
    "## DECODER"
   ]
  },
  {
   "cell_type": "code",
   "execution_count": 21,
   "id": "bd748bdd",
   "metadata": {
    "ExecuteTime": {
     "end_time": "2021-09-01T15:07:10.070180Z",
     "start_time": "2021-09-01T15:07:10.055585Z"
    }
   },
   "outputs": [],
   "source": [
    "class Decoder(tf.keras.Model):\n",
    "    def __init__(self, vocab_size, embedding_dim, dec_units, batch_sz):\n",
    "        super().__init__()\n",
    "        self.batch_sz = batch_sz\n",
    "        self.dec_units = dec_units\n",
    "        self.embedding = tf.keras.layers.Embedding(vocab_size, embedding_dim)\n",
    "        self.gru = tf.keras.layers.GRU(self.dec_units,\n",
    "                                       return_sequences=True,\n",
    "                                       return_state=True,\n",
    "                                       recurrent_initializer='glorot_uniform')\n",
    "        self.fc = tf.keras.layers.Dense(vocab_size)\n",
    "\n",
    "    def call(self, x, hidden):\n",
    "        # enc_output shape == (batch_size, max_length, hidden_size)\n",
    "        # x shape after passing through embedding == (batch_size, 1, embedding_dim)\n",
    "        x = self.embedding(x)\n",
    "\n",
    "        # x shape after concatenation == (batch_size, 1, embedding_dim + hidden_size)\n",
    "        # passing the concatenated vector to the GRU\n",
    "        output, state = self.gru(x, initial_state=hidden)\n",
    "\n",
    "        # output shape == (batch_size * 1, hidden_size)\n",
    "        output = tf.reshape(output, (-1, output.shape[2]))\n",
    "\n",
    "        # output shape == (batch_size, vocab)\n",
    "        x = self.fc(output)\n",
    "\n",
    "        return x, state"
   ]
  },
  {
   "cell_type": "code",
   "execution_count": 22,
   "id": "c804d639",
   "metadata": {
    "ExecuteTime": {
     "end_time": "2021-09-01T15:07:10.086117Z",
     "start_time": "2021-09-01T15:07:10.074121Z"
    }
   },
   "outputs": [],
   "source": [
    "decoder = Decoder(vocab_tar_size, embedding_dim, units, BATCH_SIZE)"
   ]
  },
  {
   "cell_type": "code",
   "execution_count": 23,
   "id": "8f20f5ce",
   "metadata": {
    "ExecuteTime": {
     "end_time": "2021-09-01T15:07:11.243712Z",
     "start_time": "2021-09-01T15:07:10.088118Z"
    }
   },
   "outputs": [
    {
     "data": {
      "text/plain": [
       "(TensorShape([64, 7260]), TensorShape([64, 1024]))"
      ]
     },
     "execution_count": 23,
     "metadata": {},
     "output_type": "execute_result"
    }
   ],
   "source": [
    "decoder_sample_x, decoder_sample_h = decoder(\n",
    "    tf.random.uniform((BATCH_SIZE, 1)), sample_hidden)\n",
    "\n",
    "decoder_sample_x.shape, decoder_sample_h.shape"
   ]
  },
  {
   "cell_type": "code",
   "execution_count": 24,
   "id": "9d690dff",
   "metadata": {
    "ExecuteTime": {
     "end_time": "2021-09-01T15:07:11.259735Z",
     "start_time": "2021-09-01T15:07:11.245700Z"
    }
   },
   "outputs": [],
   "source": [
    "optimizer = tf.keras.optimizers.Adam()\n",
    "\n",
    "loss_object = tf.keras.losses.SparseCategoricalCrossentropy(\n",
    "    from_logits=True, reduction='none')\n",
    "\n",
    "\n",
    "def loss_function(real, pred):\n",
    "    mask = tf.math.logical_not(tf.math.equal(real, 0))\n",
    "    loss_ = loss_object(real, pred)\n",
    "\n",
    "    mask = tf.cast(mask, dtype=loss_.dtype)\n",
    "    loss_ *= mask\n",
    "\n",
    "    return tf.reduce_mean(loss_)"
   ]
  },
  {
   "cell_type": "markdown",
   "id": "2a81dc5c",
   "metadata": {},
   "source": [
    "# TRAIN"
   ]
  },
  {
   "cell_type": "code",
   "execution_count": 25,
   "id": "f888230b",
   "metadata": {
    "ExecuteTime": {
     "end_time": "2021-09-01T15:07:11.275704Z",
     "start_time": "2021-09-01T15:07:11.261424Z"
    }
   },
   "outputs": [],
   "source": [
    "checkpoint_dir = './training_nmt_checkpoints'\n",
    "\n",
    "checkpoint = tf.train.Checkpoint(optimizer=optimizer,\n",
    "                                 encoder=encoder,\n",
    "                                 decoder=decoder)"
   ]
  },
  {
   "cell_type": "code",
   "execution_count": 26,
   "id": "fd29d423",
   "metadata": {
    "ExecuteTime": {
     "end_time": "2021-09-01T15:07:11.291342Z",
     "start_time": "2021-09-01T15:07:11.276718Z"
    }
   },
   "outputs": [],
   "source": [
    "@tf.function\n",
    "def train_step(inp, targ, enc_hidden):\n",
    "    loss = 0\n",
    "\n",
    "    with tf.GradientTape() as tape:\n",
    "        enc_hidden = encoder(inp, enc_hidden)\n",
    "        dec_hidden = enc_hidden\n",
    "\n",
    "        dec_input = tf.expand_dims(\n",
    "            [targ_lang.word_index['<start>']] * BATCH_SIZE, 1)\n",
    "\n",
    "        # Teacher forcing - feeding the target as the next input\n",
    "        for t in range(1, targ.shape[1]):\n",
    "            # passing enc_output to the decoder\n",
    "            predictions, dec_hidden = decoder(dec_input, dec_hidden)\n",
    "\n",
    "            loss += loss_function(targ[:, t], predictions)\n",
    "\n",
    "            # using teacher forcing\n",
    "            dec_input = tf.expand_dims(targ[:, t], 1)\n",
    "\n",
    "    batch_loss = (loss / targ.shape[1])\n",
    "\n",
    "    variables = encoder.trainable_variables + decoder.trainable_variables\n",
    "    gradients = tape.gradient(loss, variables)\n",
    "    optimizer.apply_gradients(zip(gradients, variables))\n",
    "\n",
    "    return batch_loss"
   ]
  },
  {
   "cell_type": "code",
   "execution_count": 27,
   "id": "ca88c966",
   "metadata": {
    "ExecuteTime": {
     "end_time": "2021-09-01T17:05:51.278902Z",
     "start_time": "2021-09-01T15:07:11.292340Z"
    }
   },
   "outputs": [
    {
     "name": "stdout",
     "output_type": "stream",
     "text": [
      "Epoch 1 Loss 1.4261\n",
      "Time taken for 1 epoch 164.70597124099731 sec\n",
      "\n",
      "Epoch 2 Loss 0.6991\n",
      "Time taken for 1 epoch 153.70558643341064 sec\n",
      "\n",
      "Epoch 3 Loss 0.3813\n",
      "Time taken for 1 epoch 147.8915092945099 sec\n",
      "\n",
      "Epoch 4 Loss 0.2301\n",
      "Time taken for 1 epoch 146.7943503856659 sec\n",
      "\n",
      "Epoch 5 Loss 0.1571\n",
      "Time taken for 1 epoch 150.3565366268158 sec\n",
      "\n",
      "Epoch 6 Loss 0.1220\n",
      "Time taken for 1 epoch 154.02417874336243 sec\n",
      "\n",
      "Epoch 7 Loss 0.1029\n",
      "Time taken for 1 epoch 149.26695156097412 sec\n",
      "\n",
      "Epoch 8 Loss 0.0935\n",
      "Time taken for 1 epoch 144.3778805732727 sec\n",
      "\n",
      "Epoch 9 Loss 0.0861\n",
      "Time taken for 1 epoch 143.12361431121826 sec\n",
      "\n",
      "Epoch 10 Loss 0.0817\n",
      "Time taken for 1 epoch 142.26895809173584 sec\n",
      "\n",
      "Epoch 11 Loss 0.0788\n",
      "Time taken for 1 epoch 140.5196988582611 sec\n",
      "\n",
      "Epoch 12 Loss 0.0768\n",
      "Time taken for 1 epoch 140.44386196136475 sec\n",
      "\n",
      "Epoch 13 Loss 0.0730\n",
      "Time taken for 1 epoch 140.3862063884735 sec\n",
      "\n",
      "Epoch 14 Loss 0.0719\n",
      "Time taken for 1 epoch 140.53888821601868 sec\n",
      "\n",
      "Epoch 15 Loss 0.0704\n",
      "Time taken for 1 epoch 142.35179018974304 sec\n",
      "\n",
      "Epoch 16 Loss 0.0687\n",
      "Time taken for 1 epoch 139.8701832294464 sec\n",
      "\n",
      "Epoch 17 Loss 0.0679\n",
      "Time taken for 1 epoch 139.09553694725037 sec\n",
      "\n",
      "Epoch 18 Loss 0.0659\n",
      "Time taken for 1 epoch 139.08144855499268 sec\n",
      "\n",
      "Epoch 19 Loss 0.0651\n",
      "Time taken for 1 epoch 141.63269591331482 sec\n",
      "\n",
      "Epoch 20 Loss 0.0644\n",
      "Time taken for 1 epoch 143.16797995567322 sec\n",
      "\n",
      "Epoch 21 Loss 0.0632\n",
      "Time taken for 1 epoch 142.03100180625916 sec\n",
      "\n",
      "Epoch 22 Loss 0.0626\n",
      "Time taken for 1 epoch 141.92039346694946 sec\n",
      "\n",
      "Epoch 23 Loss 0.0612\n",
      "Time taken for 1 epoch 140.8790032863617 sec\n",
      "\n",
      "Epoch 24 Loss 0.0604\n",
      "Time taken for 1 epoch 140.91044855117798 sec\n",
      "\n",
      "Epoch 25 Loss 0.0597\n",
      "Time taken for 1 epoch 142.44430780410767 sec\n",
      "\n",
      "Epoch 26 Loss 0.0596\n",
      "Time taken for 1 epoch 140.72093033790588 sec\n",
      "\n",
      "Epoch 27 Loss 0.0586\n",
      "Time taken for 1 epoch 139.51500153541565 sec\n",
      "\n",
      "Epoch 28 Loss 0.0577\n",
      "Time taken for 1 epoch 139.46099853515625 sec\n",
      "\n",
      "Epoch 29 Loss 0.0574\n",
      "Time taken for 1 epoch 139.4240002632141 sec\n",
      "\n",
      "Epoch 30 Loss 0.0566\n",
      "Time taken for 1 epoch 141.33726811408997 sec\n",
      "\n",
      "Epoch 31 Loss 0.0554\n",
      "Time taken for 1 epoch 139.33040356636047 sec\n",
      "\n",
      "Epoch 32 Loss 0.0552\n",
      "Time taken for 1 epoch 139.19008803367615 sec\n",
      "\n",
      "Epoch 33 Loss 0.0545\n",
      "Time taken for 1 epoch 139.21710896492004 sec\n",
      "\n",
      "Epoch 34 Loss 0.0549\n",
      "Time taken for 1 epoch 139.3532202243805 sec\n",
      "\n",
      "Epoch 35 Loss 0.0533\n",
      "Time taken for 1 epoch 141.00341653823853 sec\n",
      "\n",
      "Epoch 36 Loss 0.0538\n",
      "Time taken for 1 epoch 139.18136191368103 sec\n",
      "\n",
      "Epoch 37 Loss 0.0531\n",
      "Time taken for 1 epoch 139.22747540473938 sec\n",
      "\n",
      "Epoch 38 Loss 0.0527\n",
      "Time taken for 1 epoch 139.2388870716095 sec\n",
      "\n",
      "Epoch 39 Loss 0.0524\n",
      "Time taken for 1 epoch 143.7535719871521 sec\n",
      "\n",
      "Epoch 40 Loss 0.0516\n",
      "Time taken for 1 epoch 142.80492758750916 sec\n",
      "\n",
      "Epoch 41 Loss 0.0513\n",
      "Time taken for 1 epoch 140.39975929260254 sec\n",
      "\n",
      "Epoch 42 Loss 0.0507\n",
      "Time taken for 1 epoch 140.52835512161255 sec\n",
      "\n",
      "Epoch 43 Loss 0.0504\n",
      "Time taken for 1 epoch 140.49413657188416 sec\n",
      "\n",
      "Epoch 44 Loss 0.0505\n",
      "Time taken for 1 epoch 140.44300031661987 sec\n",
      "\n",
      "Epoch 45 Loss 0.0501\n",
      "Time taken for 1 epoch 142.1141483783722 sec\n",
      "\n",
      "Epoch 46 Loss 0.0501\n",
      "Time taken for 1 epoch 140.50980877876282 sec\n",
      "\n",
      "Epoch 47 Loss 0.0490\n",
      "Time taken for 1 epoch 140.48300337791443 sec\n",
      "\n",
      "Epoch 48 Loss 0.0492\n",
      "Time taken for 1 epoch 140.4397587776184 sec\n",
      "\n",
      "Epoch 49 Loss 0.0486\n",
      "Time taken for 1 epoch 139.26701164245605 sec\n",
      "\n",
      "Epoch 50 Loss 0.0491\n",
      "Time taken for 1 epoch 140.7419352531433 sec\n",
      "\n"
     ]
    }
   ],
   "source": [
    "EPOCHS = 50\n",
    "verbose = 1\n",
    "for epoch in range(EPOCHS):\n",
    "    start = time.time()\n",
    "\n",
    "    enc_hidden = encoder.initialize_hidden_state()\n",
    "    total_loss = 0\n",
    "    last_batch = len(dataset.take(steps_per_epoch))\n",
    "    for (batch, (inp, targ)) in enumerate(dataset.take(steps_per_epoch)):\n",
    "        batch_loss = train_step(inp, targ, enc_hidden)\n",
    "        total_loss += batch_loss\n",
    "\n",
    "        if (batch % 200 == 0) & (verbose == 2):\n",
    "            print('Epoch {} Batch {} Loss {:.4f}'.format(epoch + 1,\n",
    "                                                         batch,\n",
    "                                                         batch_loss.numpy()))\n",
    "    # saving (checkpoint) the model every 2 epochs\n",
    "    if ((epoch + 1) % 5 == 0) | ((epoch + 1) == EPOCHS):\n",
    "        checkpoint_prefix = os.path.join(checkpoint_dir, \"ckpt_\", str(epoch))\n",
    "        checkpoint.save(file_prefix=checkpoint_prefix)\n",
    "        \n",
    "    if verbose == 1:\n",
    "        print('Epoch {} Loss {:.4f}'.format(epoch + 1, total_loss / steps_per_epoch))\n",
    "        print('Time taken for 1 epoch {} sec\\n'.format(time.time() - start))"
   ]
  },
  {
   "cell_type": "code",
   "execution_count": 28,
   "id": "1e18b7e0",
   "metadata": {
    "ExecuteTime": {
     "end_time": "2021-09-01T17:05:51.294897Z",
     "start_time": "2021-09-01T17:05:51.280892Z"
    }
   },
   "outputs": [],
   "source": [
    "def evaluate(sentence):\n",
    "    attention_plot = np.zeros((max_length_targ, max_length_inp))\n",
    "    sentence = preprocess_sentence(sentence)\n",
    "\n",
    "    inputs = [inp_lang.word_index[i] for i in sentence.split(' ')]\n",
    "    inputs = tf.keras.preprocessing.sequence.pad_sequences([inputs],\n",
    "                                                           maxlen=max_length_inp,\n",
    "                                                           padding='post')\n",
    "    inputs = tf.convert_to_tensor(inputs)\n",
    "    result = ''\n",
    "    hidden = [tf.zeros((1, units))]\n",
    "    enc_hidden = encoder(inputs, hidden)\n",
    "    dec_hidden = enc_hidden\n",
    "    dec_input = tf.expand_dims([targ_lang.word_index['<start>']], 0)\n",
    "\n",
    "    for t in range(max_length_targ):\n",
    "        predictions, dec_hidden = decoder(dec_input, dec_hidden)\n",
    "\n",
    "        # storing the attention weights to plot later on\n",
    "        predicted_id = tf.argmax(predictions[0]).numpy()\n",
    "        result += targ_lang.index_word[predicted_id] + ' '\n",
    "\n",
    "        if targ_lang.index_word[predicted_id] == '<end>':\n",
    "            return result, sentence\n",
    "\n",
    "        # the predicted ID is fed back into the model\n",
    "        dec_input = tf.expand_dims([predicted_id], 0)\n",
    "\n",
    "    return result, sentence"
   ]
  },
  {
   "cell_type": "code",
   "execution_count": 29,
   "id": "22ca267f",
   "metadata": {
    "ExecuteTime": {
     "end_time": "2021-09-01T17:05:51.310116Z",
     "start_time": "2021-09-01T17:05:51.296890Z"
    }
   },
   "outputs": [],
   "source": [
    "def translate(sentence):\n",
    "    result, sentence = evaluate(sentence)\n",
    "\n",
    "    print('Input: %s' % (sentence))\n",
    "    print('Predicted translation: {}'.format(result))"
   ]
  },
  {
   "cell_type": "markdown",
   "id": "ca8be437",
   "metadata": {},
   "source": [
    "# TEST Translation"
   ]
  },
  {
   "cell_type": "code",
   "execution_count": 30,
   "id": "e4756c44",
   "metadata": {
    "ExecuteTime": {
     "end_time": "2021-09-01T17:05:51.832903Z",
     "start_time": "2021-09-01T17:05:51.310892Z"
    }
   },
   "outputs": [
    {
     "data": {
      "text/plain": [
       "<tensorflow.python.training.tracking.util.CheckpointLoadStatus at 0x14e8777bca0>"
      ]
     },
     "execution_count": 30,
     "metadata": {},
     "output_type": "execute_result"
    }
   ],
   "source": [
    "# restoring the latest checkpoint in checkpoint_dir\n",
    "checkpoint.restore(tf.train.latest_checkpoint(checkpoint_dir))"
   ]
  },
  {
   "cell_type": "code",
   "execution_count": 33,
   "id": "994d9dff",
   "metadata": {
    "ExecuteTime": {
     "end_time": "2021-09-01T17:51:18.807067Z",
     "start_time": "2021-09-01T17:51:18.803066Z"
    }
   },
   "outputs": [],
   "source": [
    "test_text_list = ['Вы не опоздали?',\n",
    "                  'Приведите вашу жену',\n",
    "                  'Позвоните мне в половине третьего.',\n",
    "                  'Я рассчитываю на вашу помощь',\n",
    "                  'Я сделал это на прошлой неделе',\n",
    "                  'Я очень хорошо это сделал'  \n",
    "]"
   ]
  },
  {
   "cell_type": "code",
   "execution_count": 34,
   "id": "e40c2618",
   "metadata": {
    "ExecuteTime": {
     "end_time": "2021-09-01T17:51:21.323167Z",
     "start_time": "2021-09-01T17:51:21.102164Z"
    }
   },
   "outputs": [
    {
     "name": "stdout",
     "output_type": "stream",
     "text": [
      "Input: <start> вы не опоздали ? <end>\n",
      "Predicted translation: aren't you late ? <end> \n",
      "Input: <start> приведите вашу жену <end>\n",
      "Predicted translation: bring your wife . <end> \n",
      "Input: <start> позвоните мне в половине третьего . <end>\n",
      "Predicted translation: call me at . <end> \n",
      "Input: <start> я рассчитываю на вашу помощь <end>\n",
      "Predicted translation: i count your number . <end> \n",
      "Input: <start> я сделал это на прошлой неделе <end>\n",
      "Predicted translation: i did it last week . <end> \n",
      "Input: <start> я очень хорошо это сделал <end>\n",
      "Predicted translation: i did it very well . <end> \n"
     ]
    }
   ],
   "source": [
    "for text in test_text_list:\n",
    "    translate(text)"
   ]
  }
 ],
 "metadata": {
  "kernelspec": {
   "display_name": "Python 3",
   "language": "python",
   "name": "python3"
  },
  "language_info": {
   "codemirror_mode": {
    "name": "ipython",
    "version": 3
   },
   "file_extension": ".py",
   "mimetype": "text/x-python",
   "name": "python",
   "nbconvert_exporter": "python",
   "pygments_lexer": "ipython3",
   "version": "3.8.8"
  },
  "toc": {
   "base_numbering": 1,
   "nav_menu": {},
   "number_sections": true,
   "sideBar": true,
   "skip_h1_title": false,
   "title_cell": "Table of Contents",
   "title_sidebar": "Contents",
   "toc_cell": false,
   "toc_position": {},
   "toc_section_display": true,
   "toc_window_display": false
  }
 },
 "nbformat": 4,
 "nbformat_minor": 5
}
