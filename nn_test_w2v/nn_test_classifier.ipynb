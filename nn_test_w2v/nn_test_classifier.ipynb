{
 "cells": [
  {
   "cell_type": "code",
   "execution_count": 1,
   "metadata": {
    "ExecuteTime": {
     "end_time": "2021-08-06T09:28:29.418033Z",
     "start_time": "2021-08-06T09:28:28.916014Z"
    }
   },
   "outputs": [],
   "source": [
    "import numpy as np\n",
    "import pandas as pd\n",
    "import warnings\n",
    "warnings.filterwarnings('ignore')\n",
    "pd.set_option('display.float_format', '{:.2f}'.format)"
   ]
  },
  {
   "cell_type": "code",
   "execution_count": 2,
   "metadata": {
    "ExecuteTime": {
     "end_time": "2021-08-06T09:28:30.608025Z",
     "start_time": "2021-08-06T09:28:29.420015Z"
    }
   },
   "outputs": [],
   "source": [
    "from sklearn import model_selection, preprocessing"
   ]
  },
  {
   "cell_type": "code",
   "execution_count": 3,
   "metadata": {
    "ExecuteTime": {
     "end_time": "2021-08-06T09:28:30.752026Z",
     "start_time": "2021-08-06T09:28:30.612013Z"
    }
   },
   "outputs": [
    {
     "data": {
      "text/html": [
       "<div>\n",
       "<style scoped>\n",
       "    .dataframe tbody tr th:only-of-type {\n",
       "        vertical-align: middle;\n",
       "    }\n",
       "\n",
       "    .dataframe tbody tr th {\n",
       "        vertical-align: top;\n",
       "    }\n",
       "\n",
       "    .dataframe thead th {\n",
       "        text-align: right;\n",
       "    }\n",
       "</style>\n",
       "<table border=\"1\" class=\"dataframe\">\n",
       "  <thead>\n",
       "    <tr style=\"text-align: right;\">\n",
       "      <th></th>\n",
       "      <th>text</th>\n",
       "      <th>label</th>\n",
       "    </tr>\n",
       "  </thead>\n",
       "  <tbody>\n",
       "    <tr>\n",
       "      <th>0</th>\n",
       "      <td>Stuning even for the non-gamer: This sound tra...</td>\n",
       "      <td>1</td>\n",
       "    </tr>\n",
       "    <tr>\n",
       "      <th>1</th>\n",
       "      <td>The best soundtrack ever to anything.: I'm rea...</td>\n",
       "      <td>1</td>\n",
       "    </tr>\n",
       "    <tr>\n",
       "      <th>2</th>\n",
       "      <td>Amazing!: This soundtrack is my favorite music...</td>\n",
       "      <td>1</td>\n",
       "    </tr>\n",
       "    <tr>\n",
       "      <th>3</th>\n",
       "      <td>Excellent Soundtrack: I truly like this soundt...</td>\n",
       "      <td>1</td>\n",
       "    </tr>\n",
       "    <tr>\n",
       "      <th>4</th>\n",
       "      <td>Remember, Pull Your Jaw Off The Floor After He...</td>\n",
       "      <td>1</td>\n",
       "    </tr>\n",
       "  </tbody>\n",
       "</table>\n",
       "</div>"
      ],
      "text/plain": [
       "                                                text  label\n",
       "0  Stuning even for the non-gamer: This sound tra...      1\n",
       "1  The best soundtrack ever to anything.: I'm rea...      1\n",
       "2  Amazing!: This soundtrack is my favorite music...      1\n",
       "3  Excellent Soundtrack: I truly like this soundt...      1\n",
       "4  Remember, Pull Your Jaw Off The Floor After He...      1"
      ]
     },
     "execution_count": 3,
     "metadata": {},
     "output_type": "execute_result"
    }
   ],
   "source": [
    "# Загружаем данные\n",
    "data = open('corpus').read()\n",
    "labels, texts = [], []\n",
    "for i, line in enumerate(data.split(\"\\n\")):\n",
    "    content = line.split()\n",
    "    labels.append(content[0])\n",
    "    texts.append(\" \".join(content[1:]))\n",
    "\n",
    "# создаем df\n",
    "trainDF = pd.DataFrame()\n",
    "trainDF['text'] = texts\n",
    "trainDF['label'] = labels\n",
    "encoder = preprocessing.LabelEncoder()\n",
    "trainDF['label'] = encoder.fit_transform(trainDF['label'])\n",
    "trainDF.head(5)"
   ]
  },
  {
   "cell_type": "code",
   "execution_count": 4,
   "metadata": {
    "ExecuteTime": {
     "end_time": "2021-08-06T09:28:30.768026Z",
     "start_time": "2021-08-06T09:28:30.753026Z"
    }
   },
   "outputs": [],
   "source": [
    "train_x, valid_x, train_y, valid_y = model_selection.train_test_split(trainDF['text'], trainDF['label'])"
   ]
  },
  {
   "cell_type": "markdown",
   "metadata": {},
   "source": [
    "--------"
   ]
  },
  {
   "cell_type": "code",
   "execution_count": 5,
   "metadata": {
    "ExecuteTime": {
     "end_time": "2021-08-06T09:28:33.382033Z",
     "start_time": "2021-08-06T09:28:30.769025Z"
    }
   },
   "outputs": [],
   "source": [
    "import tensorflow as tf\n",
    "from tensorflow.keras import Sequential\n",
    "from tensorflow.keras.layers import Dense, Embedding, GlobalAveragePooling1D, Conv1D, GRU, LSTM, Dropout\n",
    "from tensorflow.keras.layers.experimental.preprocessing import TextVectorization\n",
    "from tensorflow.keras.optimizers import Adam"
   ]
  },
  {
   "cell_type": "code",
   "execution_count": 6,
   "metadata": {
    "ExecuteTime": {
     "end_time": "2021-08-06T09:28:34.002025Z",
     "start_time": "2021-08-06T09:28:33.384013Z"
    }
   },
   "outputs": [],
   "source": [
    "train_data = tf.data.Dataset.from_tensor_slices((train_x, train_y))\n",
    "valid_data = tf.data.Dataset.from_tensor_slices((valid_x, valid_y))\n",
    "train_data = train_data.batch(16)\n",
    "valid_data = valid_data.batch(16)"
   ]
  },
  {
   "cell_type": "code",
   "execution_count": 7,
   "metadata": {
    "ExecuteTime": {
     "end_time": "2021-08-06T09:28:34.018012Z",
     "start_time": "2021-08-06T09:28:34.004014Z"
    },
    "scrolled": true
   },
   "outputs": [],
   "source": [
    "# for raw in train_data.take(1):\n",
    "#     print(raw)"
   ]
  },
  {
   "cell_type": "code",
   "execution_count": 8,
   "metadata": {
    "ExecuteTime": {
     "end_time": "2021-08-06T09:28:34.034033Z",
     "start_time": "2021-08-06T09:28:34.020014Z"
    }
   },
   "outputs": [],
   "source": [
    "AUTOTUNE = tf.data.AUTOTUNE\n",
    "train_data = train_data.cache().prefetch(buffer_size=AUTOTUNE)\n",
    "valid_data = valid_data.cache().prefetch(buffer_size=AUTOTUNE)"
   ]
  },
  {
   "cell_type": "code",
   "execution_count": 9,
   "metadata": {
    "ExecuteTime": {
     "end_time": "2021-08-06T09:28:34.742033Z",
     "start_time": "2021-08-06T09:28:34.036026Z"
    }
   },
   "outputs": [],
   "source": [
    "def custom_standardization(input_data):\n",
    "    \n",
    "    return input_data\n",
    "\n",
    "# ***************************************************************************\n",
    "vocab_size = 10000\n",
    "seq_len = 100\n",
    "\n",
    "vectorize_layer = TextVectorization(\n",
    "    standardize=custom_standardization,\n",
    "    max_tokens=vocab_size,\n",
    "    output_mode='int',\n",
    "    output_sequence_length=seq_len)\n",
    "\n",
    "# Make a text-only dataset (no labels) and call adapt to build the vocabulary.\n",
    "text_data = train_data.map(lambda x, y: x)\n",
    "vectorize_layer.adapt(text_data)"
   ]
  },
  {
   "cell_type": "code",
   "execution_count": 10,
   "metadata": {
    "ExecuteTime": {
     "end_time": "2021-08-06T09:28:34.774025Z",
     "start_time": "2021-08-06T09:28:34.743025Z"
    }
   },
   "outputs": [],
   "source": [
    "embedding_dim=200\n",
    "\n",
    "model = Sequential([\n",
    "    vectorize_layer,\n",
    "    Embedding(vocab_size, embedding_dim, name=\"embedding\"),\n",
    "    Conv1D(20, (3), activation='relu'),\n",
    "    Conv1D(30, (2), activation='relu'),\n",
    "    Conv1D(50, (2), activation='relu'),\n",
    "    GRU(100),\n",
    "    #GlobalAveragePooling1D(),\n",
    "    Dense(100, activation='relu'),\n",
    "    Dense(1, activation='sigmoid')\n",
    "])"
   ]
  },
  {
   "cell_type": "code",
   "execution_count": 11,
   "metadata": {
    "ExecuteTime": {
     "end_time": "2021-08-06T09:28:34.805165Z",
     "start_time": "2021-08-06T09:28:34.776014Z"
    }
   },
   "outputs": [],
   "source": [
    "model.compile(optimizer=Adam(learning_rate=0.0001),\n",
    "              loss=tf.keras.losses.BinaryCrossentropy(from_logits=True),\n",
    "              metrics=['accuracy'])"
   ]
  },
  {
   "cell_type": "code",
   "execution_count": 12,
   "metadata": {
    "ExecuteTime": {
     "end_time": "2021-08-06T09:32:30.960092Z",
     "start_time": "2021-08-06T09:28:34.806158Z"
    },
    "scrolled": true
   },
   "outputs": [
    {
     "name": "stdout",
     "output_type": "stream",
     "text": [
      "Epoch 1/15\n",
      "469/469 [==============================] - 21s 35ms/step - loss: 0.6929 - accuracy: 0.5121 - val_loss: 0.6933 - val_accuracy: 0.5012\n",
      "Epoch 2/15\n",
      "469/469 [==============================] - 15s 32ms/step - loss: 0.6897 - accuracy: 0.5120 - val_loss: 0.6916 - val_accuracy: 0.5168\n",
      "Epoch 3/15\n",
      "469/469 [==============================] - 15s 32ms/step - loss: 0.6595 - accuracy: 0.5717 - val_loss: 0.6934 - val_accuracy: 0.5572\n",
      "Epoch 4/15\n",
      "469/469 [==============================] - 15s 33ms/step - loss: 0.5677 - accuracy: 0.6535 - val_loss: 0.6663 - val_accuracy: 0.6612\n",
      "Epoch 5/15\n",
      "469/469 [==============================] - 15s 33ms/step - loss: 0.3884 - accuracy: 0.8096 - val_loss: 0.5257 - val_accuracy: 0.7936\n",
      "Epoch 6/15\n",
      "469/469 [==============================] - 15s 32ms/step - loss: 0.1842 - accuracy: 0.9271 - val_loss: 0.6400 - val_accuracy: 0.7936\n",
      "Epoch 7/15\n",
      "469/469 [==============================] - 15s 32ms/step - loss: 0.0927 - accuracy: 0.9703 - val_loss: 0.9020 - val_accuracy: 0.7972\n",
      "Epoch 8/15\n",
      "469/469 [==============================] - 15s 33ms/step - loss: 0.0687 - accuracy: 0.9775 - val_loss: 1.0615 - val_accuracy: 0.7688\n",
      "Epoch 9/15\n",
      "469/469 [==============================] - 16s 33ms/step - loss: 0.0487 - accuracy: 0.9817 - val_loss: 0.9642 - val_accuracy: 0.8020\n",
      "Epoch 10/15\n",
      "469/469 [==============================] - 15s 32ms/step - loss: 0.0252 - accuracy: 0.9927 - val_loss: 0.9453 - val_accuracy: 0.7960\n",
      "Epoch 11/15\n",
      "469/469 [==============================] - 15s 33ms/step - loss: 0.0102 - accuracy: 0.9972 - val_loss: 1.3274 - val_accuracy: 0.7512\n",
      "Epoch 12/15\n",
      "469/469 [==============================] - 15s 33ms/step - loss: 0.0097 - accuracy: 0.9972 - val_loss: 1.4893 - val_accuracy: 0.7888\n",
      "Epoch 13/15\n",
      "469/469 [==============================] - 16s 33ms/step - loss: 0.0110 - accuracy: 0.9976 - val_loss: 2.0067 - val_accuracy: 0.7420\n",
      "Epoch 14/15\n",
      "469/469 [==============================] - 16s 33ms/step - loss: 0.0079 - accuracy: 0.9983 - val_loss: 1.2948 - val_accuracy: 0.7548\n",
      "Epoch 15/15\n",
      "469/469 [==============================] - 16s 33ms/step - loss: 0.0048 - accuracy: 0.9985 - val_loss: 1.2856 - val_accuracy: 0.7880\n"
     ]
    },
    {
     "data": {
      "text/plain": [
       "<tensorflow.python.keras.callbacks.History at 0x18c515bed90>"
      ]
     },
     "execution_count": 12,
     "metadata": {},
     "output_type": "execute_result"
    }
   ],
   "source": [
    "model.fit(train_data, validation_data=valid_data, epochs=15)"
   ]
  },
  {
   "cell_type": "markdown",
   "metadata": {},
   "source": [
    "*********************"
   ]
  },
  {
   "cell_type": "code",
   "execution_count": 13,
   "metadata": {
    "ExecuteTime": {
     "end_time": "2021-08-06T09:32:30.976094Z",
     "start_time": "2021-08-06T09:32:30.961092Z"
    }
   },
   "outputs": [],
   "source": [
    "class myNet(tf.keras.Model):\n",
    "    def __init__(self):\n",
    "        super(myNet, self).__init__()\n",
    "        self.emb = Embedding(vocab_size, embedding_dim, name=\"embedding\")\n",
    "        self.conv1 = Conv1D(200, (3))\n",
    "        self.conv2 = Conv1D(200, (3))\n",
    "        self.gPool = GlobalAveragePooling1D()\n",
    "        self.fc1 = Dense(100, activation='relu')\n",
    "        self.fc2 = Dense(1)\n",
    "        \n",
    "        self.ss = Sequential([\n",
    "            vectorize_layer,\n",
    "            Embedding(vocab_size, embedding_dim, name=\"embedding\"),\n",
    "            Conv1D(200, (3)),\n",
    "            Conv1D(200, (2)),\n",
    "            GRU(300),\n",
    "#             GlobalAveragePooling1D(),\n",
    "            Dense(100, activation='relu'),\n",
    "            Dense(1)\n",
    "        ])\n",
    "\n",
    "    def call(self, x):\n",
    "        x = vectorize_layer(x)\n",
    "        x = self.emb(x)\n",
    "        x = self.conv1(x)\n",
    "        x = self.conv2(x)\n",
    "        x = self.gPool(x)\n",
    "        x = self.fc1(x)\n",
    "#         x = self.ss(x)\n",
    "        return self.fc2(x)"
   ]
  },
  {
   "cell_type": "code",
   "execution_count": 14,
   "metadata": {
    "ExecuteTime": {
     "end_time": "2021-08-06T09:32:31.007113Z",
     "start_time": "2021-08-06T09:32:30.977094Z"
    }
   },
   "outputs": [],
   "source": [
    "mmodel = myNet()"
   ]
  },
  {
   "cell_type": "code",
   "execution_count": 15,
   "metadata": {
    "ExecuteTime": {
     "end_time": "2021-08-06T09:32:31.023143Z",
     "start_time": "2021-08-06T09:32:31.009093Z"
    }
   },
   "outputs": [],
   "source": [
    "mmodel.compile(optimizer='adam',\n",
    "              loss=tf.keras.losses.BinaryCrossentropy(from_logits=True),\n",
    "              metrics=['accuracy'])"
   ]
  },
  {
   "cell_type": "code",
   "execution_count": null,
   "metadata": {
    "ExecuteTime": {
     "end_time": "2021-08-06T09:32:32.095105Z",
     "start_time": "2021-08-06T09:32:31.025092Z"
    }
   },
   "outputs": [],
   "source": [
    "mmodel.fit(train_data, validation_data=valid_data, epochs=15)"
   ]
  }
 ],
 "metadata": {
  "kernelspec": {
   "display_name": "Python 3",
   "language": "python",
   "name": "python3"
  },
  "language_info": {
   "codemirror_mode": {
    "name": "ipython",
    "version": 3
   },
   "file_extension": ".py",
   "mimetype": "text/x-python",
   "name": "python",
   "nbconvert_exporter": "python",
   "pygments_lexer": "ipython3",
   "version": "3.8.5"
  },
  "toc": {
   "base_numbering": 1,
   "nav_menu": {},
   "number_sections": true,
   "sideBar": true,
   "skip_h1_title": false,
   "title_cell": "Table of Contents",
   "title_sidebar": "Contents",
   "toc_cell": false,
   "toc_position": {},
   "toc_section_display": true,
   "toc_window_display": false
  }
 },
 "nbformat": 4,
 "nbformat_minor": 4
}
