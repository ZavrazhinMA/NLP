{
 "cells": [
  {
   "cell_type": "markdown",
   "id": "f56da6c1",
   "metadata": {},
   "source": [
    "# Выяснить какая архитектура больше подходит для задачи сантимент анализа на данных RNN | CNN\n",
    "1. построить свёрточные архитектуры\n",
    "2. построить различные архитектуры с RNN\n",
    "3. построить совместные архитектуры CNN -> RNN и (RNN -> CNN)\n",
    "4. сдлать выводы что получилось лучше"
   ]
  },
  {
   "cell_type": "markdown",
   "id": "276e7b1c",
   "metadata": {},
   "source": [
    "****************************"
   ]
  },
  {
   "cell_type": "code",
   "execution_count": 1,
   "id": "04d28910",
   "metadata": {
    "ExecuteTime": {
     "end_time": "2021-08-24T11:02:43.112819Z",
     "start_time": "2021-08-24T11:02:42.687804Z"
    }
   },
   "outputs": [],
   "source": [
    "import numpy as np\n",
    "import pandas as pd\n",
    "import warnings\n",
    "warnings.filterwarnings('ignore')\n",
    "pd.set_option('display.float_format', '{:.2f}'.format)"
   ]
  },
  {
   "cell_type": "code",
   "execution_count": 2,
   "id": "109f9368",
   "metadata": {
    "ExecuteTime": {
     "end_time": "2021-08-24T11:02:46.218820Z",
     "start_time": "2021-08-24T11:02:43.114813Z"
    }
   },
   "outputs": [],
   "source": [
    "from string import punctuation\n",
    "from stop_words import get_stop_words\n",
    "from pymorphy2 import MorphAnalyzer\n",
    "import re\n",
    "from spacy.lang.ru.stop_words import STOP_WORDS"
   ]
  },
  {
   "cell_type": "code",
   "execution_count": 3,
   "id": "15c5c617",
   "metadata": {
    "ExecuteTime": {
     "end_time": "2021-08-24T11:02:46.598819Z",
     "start_time": "2021-08-24T11:02:46.219813Z"
    }
   },
   "outputs": [],
   "source": [
    "from tensorflow.keras.models import Sequential, Model\n",
    "from tensorflow.keras.layers import Dense, Dropout, Activation, Input, Embedding, GlobalMaxPool1D, Flatten\n",
    "from tensorflow.keras.layers import  Conv1D, SimpleRNN, LSTM, GRU, Masking\n",
    "from tensorflow.keras.preprocessing.text import Tokenizer\n",
    "from tensorflow.keras.preprocessing.sequence import pad_sequences\n",
    "from tensorflow.keras.callbacks import TensorBoard\n",
    "from tensorflow.keras.losses import categorical_crossentropy\n",
    "from tensorflow.keras.callbacks import EarlyStopping\n",
    "from tensorflow.keras.optimizers import Adam"
   ]
  },
  {
   "cell_type": "markdown",
   "id": "b6e68b77",
   "metadata": {},
   "source": [
    "***************"
   ]
  },
  {
   "cell_type": "markdown",
   "id": "f9b70569",
   "metadata": {},
   "source": [
    "## Preprocessing"
   ]
  },
  {
   "cell_type": "code",
   "execution_count": 4,
   "id": "7525c2b6",
   "metadata": {
    "ExecuteTime": {
     "end_time": "2021-08-24T11:02:47.216811Z",
     "start_time": "2021-08-24T11:02:46.599801Z"
    }
   },
   "outputs": [
    {
     "data": {
      "text/html": [
       "<div>\n",
       "<style scoped>\n",
       "    .dataframe tbody tr th:only-of-type {\n",
       "        vertical-align: middle;\n",
       "    }\n",
       "\n",
       "    .dataframe tbody tr th {\n",
       "        vertical-align: top;\n",
       "    }\n",
       "\n",
       "    .dataframe thead th {\n",
       "        text-align: right;\n",
       "    }\n",
       "</style>\n",
       "<table border=\"1\" class=\"dataframe\">\n",
       "  <thead>\n",
       "    <tr style=\"text-align: right;\">\n",
       "      <th></th>\n",
       "      <th>id</th>\n",
       "      <th>text</th>\n",
       "      <th>class</th>\n",
       "    </tr>\n",
       "  </thead>\n",
       "  <tbody>\n",
       "    <tr>\n",
       "      <th>0</th>\n",
       "      <td>0</td>\n",
       "      <td>@alisachachka не уезжаааааааай. :(❤ я тоже не ...</td>\n",
       "      <td>0</td>\n",
       "    </tr>\n",
       "    <tr>\n",
       "      <th>1</th>\n",
       "      <td>1</td>\n",
       "      <td>RT @GalyginVadim: Ребята и девчата!\\nВсе в кин...</td>\n",
       "      <td>1</td>\n",
       "    </tr>\n",
       "  </tbody>\n",
       "</table>\n",
       "</div>"
      ],
      "text/plain": [
       "   id                                               text  class\n",
       "0   0  @alisachachka не уезжаааааааай. :(❤ я тоже не ...      0\n",
       "1   1  RT @GalyginVadim: Ребята и девчата!\\nВсе в кин...      1"
      ]
     },
     "execution_count": 4,
     "metadata": {},
     "output_type": "execute_result"
    }
   ],
   "source": [
    "df_train = pd.read_csv(\"data/train.csv\")\n",
    "df_val = pd.read_csv(\"data/val.csv\")\n",
    "df_train.head(2)"
   ]
  },
  {
   "cell_type": "code",
   "execution_count": 5,
   "id": "1e214b9b",
   "metadata": {
    "ExecuteTime": {
     "end_time": "2021-08-24T11:02:48.034820Z",
     "start_time": "2021-08-24T11:02:47.217813Z"
    }
   },
   "outputs": [],
   "source": [
    "sw = set((get_stop_words(\"ru\") + list(STOP_WORDS))) - {'не', 'ни', 'нет'}\n",
    "exclude = set(punctuation)\n",
    "morpher = MorphAnalyzer()\n",
    "\n",
    "\n",
    "def preprocess_text(txt, exclude=exclude, sw=sw, morpher=morpher):\n",
    "    txt = str(txt)\n",
    "#     txt = re.sub(\"@[\\w]*\", \"\", txt)\n",
    "    txt = \"\".join(c for c in txt if c not in exclude)\n",
    "    txt = txt.lower()\n",
    "    txt = [morpher.parse(\n",
    "        word)[0].normal_form for word in txt.split() if word not in sw]\n",
    "    return \" \".join(txt)"
   ]
  },
  {
   "cell_type": "code",
   "execution_count": 6,
   "id": "11a96214",
   "metadata": {
    "ExecuteTime": {
     "end_time": "2021-08-24T11:07:31.402870Z",
     "start_time": "2021-08-24T11:02:48.035812Z"
    }
   },
   "outputs": [],
   "source": [
    "df_train['text'] = df_train['text'].apply(preprocess_text)\n",
    "df_val['text'] = df_val['text'].apply(preprocess_text)"
   ]
  },
  {
   "cell_type": "code",
   "execution_count": 7,
   "id": "99edc24b",
   "metadata": {
    "ExecuteTime": {
     "end_time": "2021-08-24T11:07:31.418854Z",
     "start_time": "2021-08-24T11:07:31.404863Z"
    }
   },
   "outputs": [
    {
     "data": {
      "text/html": [
       "<div>\n",
       "<style scoped>\n",
       "    .dataframe tbody tr th:only-of-type {\n",
       "        vertical-align: middle;\n",
       "    }\n",
       "\n",
       "    .dataframe tbody tr th {\n",
       "        vertical-align: top;\n",
       "    }\n",
       "\n",
       "    .dataframe thead th {\n",
       "        text-align: right;\n",
       "    }\n",
       "</style>\n",
       "<table border=\"1\" class=\"dataframe\">\n",
       "  <thead>\n",
       "    <tr style=\"text-align: right;\">\n",
       "      <th></th>\n",
       "      <th>id</th>\n",
       "      <th>text</th>\n",
       "      <th>class</th>\n",
       "    </tr>\n",
       "  </thead>\n",
       "  <tbody>\n",
       "    <tr>\n",
       "      <th>0</th>\n",
       "      <td>0</td>\n",
       "      <td>alisachachka не уезжаааааааать ❤ не хотеть уез...</td>\n",
       "      <td>0</td>\n",
       "    </tr>\n",
       "    <tr>\n",
       "      <th>1</th>\n",
       "      <td>1</td>\n",
       "      <td>rt galyginvadim ребята девчата кино любовь зав...</td>\n",
       "      <td>1</td>\n",
       "    </tr>\n",
       "  </tbody>\n",
       "</table>\n",
       "</div>"
      ],
      "text/plain": [
       "   id                                               text  class\n",
       "0   0  alisachachka не уезжаааааааать ❤ не хотеть уез...      0\n",
       "1   1  rt galyginvadim ребята девчата кино любовь зав...      1"
      ]
     },
     "execution_count": 7,
     "metadata": {},
     "output_type": "execute_result"
    }
   ],
   "source": [
    "df_train.head(2)"
   ]
  },
  {
   "cell_type": "code",
   "execution_count": 8,
   "id": "15e6393a",
   "metadata": {
    "ExecuteTime": {
     "end_time": "2021-08-24T11:07:31.433851Z",
     "start_time": "2021-08-24T11:07:31.423856Z"
    }
   },
   "outputs": [],
   "source": [
    "text_corpus_train = df_train['text'].values\n",
    "text_corpus_valid = df_val['text'].values\n",
    "y_train = df_train['class'].values\n",
    "y_val = df_val['class'].values"
   ]
  },
  {
   "cell_type": "code",
   "execution_count": 9,
   "id": "6442d401",
   "metadata": {
    "ExecuteTime": {
     "end_time": "2021-08-24T11:07:39.124871Z",
     "start_time": "2021-08-24T11:07:31.435850Z"
    }
   },
   "outputs": [],
   "source": [
    "tokenizer = Tokenizer(num_words=None,\n",
    "                      filters='#$%&()*+-<=>@[\\\\]^_`{|}~\\t\\n',\n",
    "                      lower=False, split=' ')\n",
    "tokenizer.fit_on_texts(text_corpus_train)\n",
    "\n",
    "sequences_train = tokenizer.texts_to_sequences(text_corpus_train)\n",
    "sequences_val = tokenizer.texts_to_sequences(text_corpus_valid)\n",
    "\n",
    "word_count = len(tokenizer.index_word) + 1\n",
    "training_length = max([len(i.split()) for i in text_corpus_train])\n",
    "\n",
    "X_train = pad_sequences(sequences_train, maxlen=training_length)\n",
    "X_valid = pad_sequences(sequences_val, maxlen=training_length)"
   ]
  },
  {
   "cell_type": "code",
   "execution_count": 10,
   "id": "b7c7b696",
   "metadata": {
    "ExecuteTime": {
     "end_time": "2021-08-24T11:07:39.140852Z",
     "start_time": "2021-08-24T11:07:39.125862Z"
    }
   },
   "outputs": [],
   "source": [
    "BATCH_SIZE = 2048\n",
    "EPOCHES = 10\n",
    "opt = Adam(learning_rate=0.0001)\n",
    "early_stopping = EarlyStopping(monitor='val_accuracy', patience=2)"
   ]
  },
  {
   "cell_type": "markdown",
   "id": "fb334d24",
   "metadata": {},
   "source": [
    "## CNN"
   ]
  },
  {
   "cell_type": "code",
   "execution_count": 11,
   "id": "e47f66dc",
   "metadata": {
    "ExecuteTime": {
     "end_time": "2021-08-24T11:07:40.070787Z",
     "start_time": "2021-08-24T11:07:39.142852Z"
    }
   },
   "outputs": [],
   "source": [
    "model1 = Sequential()\n",
    "model1.add(\n",
    "    Embedding(input_dim=word_count,\n",
    "              input_length=training_length,\n",
    "              output_dim=30,\n",
    "              trainable=True,\n",
    "              mask_zero=True))\n",
    "model1.add(Masking(mask_value=0.0))\n",
    "model1.add(Conv1D(64, 3))\n",
    "model1.add(Activation(\"relu\"))\n",
    "model1.add(Flatten())\n",
    "model1.add(Dense(128))\n",
    "model1.add(Dropout(0.25))\n",
    "model1.add(Activation(\"relu\"))\n",
    "model1.add(Dense(1))\n",
    "model1.add(Activation('sigmoid'))"
   ]
  },
  {
   "cell_type": "code",
   "execution_count": 12,
   "id": "a338a74c",
   "metadata": {
    "ExecuteTime": {
     "end_time": "2021-08-24T11:07:56.694746Z",
     "start_time": "2021-08-24T11:07:40.071777Z"
    },
    "scrolled": true
   },
   "outputs": [],
   "source": [
    "model1.compile(optimizer=opt, loss='binary_crossentropy', metrics=['accuracy'])\n",
    "\n",
    "history1 = model1.fit(X_train, y_train,\n",
    "                    batch_size=BATCH_SIZE,\n",
    "                    epochs=EPOCHES,\n",
    "                    verbose=0,\n",
    "                    validation_split=0.1,\n",
    "                    callbacks=[early_stopping]\n",
    "                    )"
   ]
  },
  {
   "cell_type": "code",
   "execution_count": 13,
   "id": "4a4ef3bb",
   "metadata": {
    "ExecuteTime": {
     "end_time": "2021-08-24T11:07:56.950288Z",
     "start_time": "2021-08-24T11:07:56.696270Z"
    }
   },
   "outputs": [
    {
     "name": "stdout",
     "output_type": "stream",
     "text": [
      "45/45 [==============================] - 0s 4ms/step - loss: 0.5828 - accuracy: 0.7348\n",
      "\n",
      "\n",
      "CNN Test loss: 0.5827595591545105\n",
      "CNN Test accuracy: 0.73482346534729\n"
     ]
    }
   ],
   "source": [
    "score = model1.evaluate(X_valid, y_val, batch_size=512, verbose=1)\n",
    "print('\\n')\n",
    "print('CNN Test loss:', score[0])\n",
    "print('CNN Test accuracy:', score[1])"
   ]
  },
  {
   "cell_type": "markdown",
   "id": "0a5d4ba6",
   "metadata": {
    "ExecuteTime": {
     "end_time": "2021-08-24T09:29:19.885498Z",
     "start_time": "2021-08-24T09:29:19.871499Z"
    }
   },
   "source": [
    "## LSTM"
   ]
  },
  {
   "cell_type": "code",
   "execution_count": 14,
   "id": "218c14a2",
   "metadata": {
    "ExecuteTime": {
     "end_time": "2021-08-24T11:07:57.092314Z",
     "start_time": "2021-08-24T11:07:56.952268Z"
    }
   },
   "outputs": [
    {
     "name": "stdout",
     "output_type": "stream",
     "text": [
      "WARNING:tensorflow:Layer lstm will not use cuDNN kernels since it doesn't meet the criteria. It will use a generic GPU kernel as fallback when running on GPU.\n"
     ]
    }
   ],
   "source": [
    "model2 = Sequential()\n",
    "\n",
    "model2.add(\n",
    "    Embedding(input_dim=word_count,\n",
    "              input_length=training_length,\n",
    "              output_dim=30,\n",
    "              trainable=True,\n",
    "              mask_zero=True))\n",
    "model2.add(Masking(mask_value=0.0))\n",
    "model2.add(LSTM(64, recurrent_dropout=0.25))\n",
    "model2.add(Dense(128, activation='relu'))\n",
    "model2.add(Dropout(0.25))\n",
    "model2.add(Dense(1, activation='sigmoid'))"
   ]
  },
  {
   "cell_type": "code",
   "execution_count": 15,
   "id": "ef1082c0",
   "metadata": {
    "ExecuteTime": {
     "end_time": "2021-08-24T11:11:16.652330Z",
     "start_time": "2021-08-24T11:07:57.093309Z"
    }
   },
   "outputs": [],
   "source": [
    "model2.compile(optimizer=opt, loss='binary_crossentropy', metrics=['accuracy'])\n",
    "\n",
    "history2 = model2.fit(X_train, y_train,\n",
    "                    batch_size=BATCH_SIZE,\n",
    "                    epochs=EPOCHES,\n",
    "                    verbose=0,\n",
    "                    validation_split=0.1,\n",
    "                    callbacks=[early_stopping]\n",
    "                    )"
   ]
  },
  {
   "cell_type": "code",
   "execution_count": 16,
   "id": "eece4ea9",
   "metadata": {
    "ExecuteTime": {
     "end_time": "2021-08-24T11:11:18.180330Z",
     "start_time": "2021-08-24T11:11:16.653309Z"
    }
   },
   "outputs": [
    {
     "name": "stdout",
     "output_type": "stream",
     "text": [
      "45/45 [==============================] - 1s 32ms/step - loss: 0.5760 - accuracy: 0.7410\n",
      "\n",
      "\n",
      "LSTM Test loss: 0.5759655237197876\n",
      "LSTM Test accuracy: 0.7409513592720032\n"
     ]
    }
   ],
   "source": [
    "score = model2.evaluate(X_valid, y_val, batch_size=512, verbose=1)\n",
    "print('\\n')\n",
    "print('LSTM Test loss:', score[0])\n",
    "print('LSTM Test accuracy:', score[1])"
   ]
  },
  {
   "cell_type": "markdown",
   "id": "27539675",
   "metadata": {
    "ExecuteTime": {
     "end_time": "2021-08-24T09:41:44.858987Z",
     "start_time": "2021-08-24T09:41:44.855985Z"
    }
   },
   "source": [
    "## LSTM + CNN"
   ]
  },
  {
   "cell_type": "code",
   "execution_count": 17,
   "id": "8d188d66",
   "metadata": {
    "ExecuteTime": {
     "end_time": "2021-08-24T11:11:18.324328Z",
     "start_time": "2021-08-24T11:11:18.181310Z"
    }
   },
   "outputs": [
    {
     "name": "stdout",
     "output_type": "stream",
     "text": [
      "WARNING:tensorflow:Layer lstm_1 will not use cuDNN kernels since it doesn't meet the criteria. It will use a generic GPU kernel as fallback when running on GPU.\n"
     ]
    }
   ],
   "source": [
    "model3 = Sequential()\n",
    "\n",
    "model3.add(\n",
    "    Embedding(input_dim=word_count,\n",
    "              input_length=training_length,\n",
    "              output_dim=30,\n",
    "              trainable=True,\n",
    "              mask_zero=True))\n",
    "model3.add(Masking(mask_value=0.0))\n",
    "model3.add(LSTM(64, recurrent_dropout=0.25, return_sequences=True))\n",
    "model3.add(Conv1D(64, 3))\n",
    "model3.add(Flatten())\n",
    "model3.add(Dense(128, activation='relu'))\n",
    "model3.add(Dropout(0.25))\n",
    "model3.add(Dense(1, activation='sigmoid'))"
   ]
  },
  {
   "cell_type": "code",
   "execution_count": 18,
   "id": "368c15f7",
   "metadata": {
    "ExecuteTime": {
     "end_time": "2021-08-24T11:13:41.637329Z",
     "start_time": "2021-08-24T11:11:18.325308Z"
    }
   },
   "outputs": [],
   "source": [
    "model3.compile(optimizer=opt, loss='binary_crossentropy', metrics=['accuracy'])\n",
    "\n",
    "history3 = model3.fit(X_train, y_train,\n",
    "                    batch_size=BATCH_SIZE,\n",
    "                    epochs=EPOCHES,\n",
    "                    verbose=0,\n",
    "                    validation_split=0.1,\n",
    "                    callbacks=[early_stopping]\n",
    "                    )"
   ]
  },
  {
   "cell_type": "code",
   "execution_count": 19,
   "id": "c8581591",
   "metadata": {
    "ExecuteTime": {
     "end_time": "2021-08-24T11:13:43.316330Z",
     "start_time": "2021-08-24T11:13:41.638308Z"
    }
   },
   "outputs": [
    {
     "name": "stdout",
     "output_type": "stream",
     "text": [
      "45/45 [==============================] - 2s 35ms/step - loss: 0.6593 - accuracy: 0.7271\n",
      "\n",
      "\n",
      "LSTM+CNN Test loss: 0.6593348979949951\n",
      "LSTM+CNN Test accuracy: 0.727064311504364\n"
     ]
    }
   ],
   "source": [
    "score = model3.evaluate(X_valid, y_val, batch_size=512, verbose=1)\n",
    "print('\\n')\n",
    "print('LSTM+CNN Test loss:', score[0])\n",
    "print('LSTM+CNN Test accuracy:', score[1])"
   ]
  },
  {
   "cell_type": "markdown",
   "id": "1ce1e9c6",
   "metadata": {
    "ExecuteTime": {
     "end_time": "2021-08-24T10:12:50.432747Z",
     "start_time": "2021-08-24T10:12:50.414729Z"
    }
   },
   "source": [
    "## CNN + LSTM"
   ]
  },
  {
   "cell_type": "code",
   "execution_count": 20,
   "id": "b4db666d",
   "metadata": {
    "ExecuteTime": {
     "end_time": "2021-08-24T11:13:43.444308Z",
     "start_time": "2021-08-24T11:13:43.317309Z"
    }
   },
   "outputs": [
    {
     "name": "stdout",
     "output_type": "stream",
     "text": [
      "WARNING:tensorflow:Layer lstm_2 will not use cuDNN kernels since it doesn't meet the criteria. It will use a generic GPU kernel as fallback when running on GPU.\n"
     ]
    }
   ],
   "source": [
    "model4 = Sequential()\n",
    "\n",
    "model4.add(\n",
    "    Embedding(input_dim=word_count,\n",
    "              input_length=training_length,\n",
    "              output_dim=30,\n",
    "              trainable=True,\n",
    "              mask_zero=True))\n",
    "model4.add(Masking(mask_value=0.0))\n",
    "model4.add(Conv1D(64, 3))\n",
    "model4.add(Activation(\"relu\"))\n",
    "model4.add(LSTM(64, recurrent_dropout=0.25))\n",
    "model4.add(Dense(128, activation='relu'))\n",
    "model4.add(Dropout(0.25))\n",
    "model4.add(Dense(1, activation='sigmoid'))"
   ]
  },
  {
   "cell_type": "code",
   "execution_count": 21,
   "id": "33573c75",
   "metadata": {
    "ExecuteTime": {
     "end_time": "2021-08-24T11:15:34.224329Z",
     "start_time": "2021-08-24T11:13:43.445310Z"
    }
   },
   "outputs": [],
   "source": [
    "model4.compile(optimizer=opt, loss='binary_crossentropy', metrics=['accuracy'])\n",
    "\n",
    "history4 = model4.fit(X_train, y_train,\n",
    "                    batch_size=BATCH_SIZE,\n",
    "                    epochs=EPOCHES,\n",
    "                    verbose=0,\n",
    "                    validation_split=0.1,\n",
    "                    callbacks=[early_stopping]\n",
    "                    )"
   ]
  },
  {
   "cell_type": "code",
   "execution_count": 22,
   "id": "efc07bf1",
   "metadata": {
    "ExecuteTime": {
     "end_time": "2021-08-24T11:15:35.404329Z",
     "start_time": "2021-08-24T11:15:34.227309Z"
    }
   },
   "outputs": [
    {
     "name": "stdout",
     "output_type": "stream",
     "text": [
      "45/45 [==============================] - 1s 25ms/step - loss: 0.6612 - accuracy: 0.7293\n",
      "\n",
      "\n",
      "CNN+LSTM Test loss: 0.661159098148346\n",
      "CNN+LSTM Test accuracy: 0.7292686104774475\n"
     ]
    }
   ],
   "source": [
    "score = model4.evaluate(X_valid, y_val, batch_size=512, verbose=1)\n",
    "print('\\n')\n",
    "print('CNN+LSTM Test loss:', score[0])\n",
    "print('CNN+LSTM Test accuracy:', score[1])"
   ]
  },
  {
   "cell_type": "markdown",
   "id": "b9208794",
   "metadata": {},
   "source": [
    "**Вывод:** В базовых исполнениях All about the same."
   ]
  }
 ],
 "metadata": {
  "kernelspec": {
   "display_name": "Python 3",
   "language": "python",
   "name": "python3"
  },
  "language_info": {
   "codemirror_mode": {
    "name": "ipython",
    "version": 3
   },
   "file_extension": ".py",
   "mimetype": "text/x-python",
   "name": "python",
   "nbconvert_exporter": "python",
   "pygments_lexer": "ipython3",
   "version": "3.8.8"
  },
  "toc": {
   "base_numbering": 1,
   "nav_menu": {},
   "number_sections": true,
   "sideBar": true,
   "skip_h1_title": false,
   "title_cell": "Table of Contents",
   "title_sidebar": "Contents",
   "toc_cell": false,
   "toc_position": {},
   "toc_section_display": true,
   "toc_window_display": false
  }
 },
 "nbformat": 4,
 "nbformat_minor": 5
}
